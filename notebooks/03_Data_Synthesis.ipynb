{
 "cells": [
  {
   "cell_type": "code",
   "execution_count": null,
   "metadata": {},
   "outputs": [],
   "source": [
    "from pathlib import Path\n",
    "import os\n",
    "\n",
    "ROOT = Path(\"/Users/Admin/Desktop/PARA-OS/01_Projects/Learning-Design-ML-Systems/Data-augmentation-DMLS\")\n",
    "\n",
    "if ROOT.is_dir():\n",
    "    print(f\"ROOT directory exists hence changing directory to '{ROOT.name}'\")\n",
    "    os.chdir(ROOT)\n",
    "else:\n",
    "    raise NotADirectoryError"
   ]
  }
 ],
 "metadata": {
  "language_info": {
   "name": "python"
  }
 },
 "nbformat": 4,
 "nbformat_minor": 2
}
