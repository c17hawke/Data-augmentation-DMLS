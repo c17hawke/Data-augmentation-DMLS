{
 "cells": [
  {
   "cell_type": "code",
   "execution_count": null,
   "metadata": {},
   "outputs": [],
   "source": [
    "from pathlib import Path\n",
    "import os\n",
    "\n",
    "ROOT = Path(\"/Users/Admin/Desktop/PARA-OS/01_Projects/Learning-Design-ML-Systems/Data-augmentation-DMLS\")\n",
    "\n",
    "if ROOT.is_dir():\n",
    "    print(f\"ROOT directory exists hence changing directory to '{ROOT.name}'\")\n",
    "    os.chdir(ROOT)\n",
    "else:\n",
    "    raise NotADirectoryError"
   ]
  },
  {
   "cell_type": "markdown",
   "metadata": {},
   "source": [
    "## Data synthesis using templating..."
   ]
  },
  {
   "cell_type": "code",
   "execution_count": 1,
   "metadata": {},
   "outputs": [
    {
     "name": "stdout",
     "output_type": "stream",
     "text": [
      "I like to eat bananas in the morning.\n"
     ]
    }
   ],
   "source": [
    "import random # noqa\n",
    "\n",
    "## NLP: Templating\n",
    "templates = [\n",
    "    \"My favorite fruit is {}.\",\n",
    "    \"I like to eat {} in the morning.\",\n",
    "    \"A type of fruit that I enjoy is {}.\"\n",
    "]\n",
    "\n",
    "fillers = [\"apples\", \"bananas\", \"grapes\", \"oranges\", \"pears\"]\n",
    "\n",
    "def generate_sentence(templates, fillers):\n",
    "    template = random.choice(templates)\n",
    "    filler = random.choice(fillers)\n",
    "    sentence = template.format(filler)\n",
    "    return sentence\n",
    "\n",
    "sentence = generate_sentence(templates, fillers)\n",
    "print(sentence)"
   ]
  },
  {
   "cell_type": "code",
   "execution_count": 2,
   "metadata": {},
   "outputs": [
    {
     "name": "stdout",
     "output_type": "stream",
     "text": [
      "\n",
      "Sample 0\":-\n",
      "A type of fruit that I enjoy is pears.\n",
      "\n",
      "Sample 1\":-\n",
      "My favorite fruit is pears.\n",
      "\n",
      "Sample 2\":-\n",
      "I like to eat apples in the morning.\n",
      "\n",
      "Sample 3\":-\n",
      "A type of fruit that I enjoy is bananas.\n",
      "\n",
      "Sample 4\":-\n",
      "My favorite fruit is apples.\n"
     ]
    }
   ],
   "source": [
    "new_samples = list()\n",
    "for idx in range(5):\n",
    "    print()\n",
    "    print(f'Sample {idx}\":-')\n",
    "    response = generate_sentence(templates, fillers)\n",
    "    print(response)\n",
    "    new_samples.append(response)\n"
   ]
  }
 ],
 "metadata": {
  "kernelspec": {
   "display_name": "Python 3",
   "language": "python",
   "name": "python3"
  },
  "language_info": {
   "codemirror_mode": {
    "name": "ipython",
    "version": 3
   },
   "file_extension": ".py",
   "mimetype": "text/x-python",
   "name": "python",
   "nbconvert_exporter": "python",
   "pygments_lexer": "ipython3",
   "version": "3.9.18"
  }
 },
 "nbformat": 4,
 "nbformat_minor": 2
}
