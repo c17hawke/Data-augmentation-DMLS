{
 "cells": [
  {
   "cell_type": "code",
   "execution_count": 1,
   "metadata": {},
   "outputs": [
    {
     "name": "stdout",
     "output_type": "stream",
     "text": [
      "ROOT directory exists hence changing directory to 'Data-augmentation-DMLS'\n"
     ]
    }
   ],
   "source": [
    "from pathlib import Path\n",
    "import os\n",
    "\n",
    "ROOT = Path(\"/Users/Admin/Desktop/PARA-OS/01_Projects/Learning-Design-ML-Systems/Data-augmentation-DMLS\")\n",
    "\n",
    "if ROOT.is_dir():\n",
    "    print(f\"ROOT directory exists hence changing directory to '{ROOT.name}'\")\n",
    "    os.chdir(ROOT)\n",
    "else:\n",
    "    raise NotADirectoryError"
   ]
  },
  {
   "cell_type": "markdown",
   "metadata": {},
   "source": [
    "References - \n",
    "- [1] NLPAUG - https://pypi.org/project/nlpaug/\n",
    "- [2] NLPAUG Cookbook - https://github.com/makcedward/nlpaug/blob/master/example/textual_augmenter.ipynb"
   ]
  },
  {
   "cell_type": "code",
   "execution_count": 2,
   "metadata": {},
   "outputs": [
    {
     "name": "stdout",
     "output_type": "stream",
     "text": [
      "The quick brown fox jump over the lazy dog\n"
     ]
    }
   ],
   "source": [
    "import nltk # noqa\n",
    "from nltk.corpus import wordnet # noqa\n",
    "\n",
    "def replace_synonyms(sentence):\n",
    "    words = nltk.word_tokenize(sentence)\n",
    "    new_words = []\n",
    "    for word in words:\n",
    "        synonyms = wordnet.synsets(word)\n",
    "        if synonyms and synonyms[0].lemmas():\n",
    "            new_words.append(synonyms[0].lemmas()[0].name())\n",
    "        else:\n",
    "            new_words.append(word)\n",
    "    return \" \".join(new_words)\n",
    "\n",
    "sentence = \"The quick brown fox jumps over the lazy dog\"\n",
    "new_sentence = replace_synonyms(sentence)\n",
    "print(new_sentence)"
   ]
  },
  {
   "cell_type": "code",
   "execution_count": 3,
   "metadata": {},
   "outputs": [
    {
     "name": "stdout",
     "output_type": "stream",
     "text": [
      "The quick brown fox jumps over the lazy dog .\n"
     ]
    }
   ],
   "source": [
    "import nlpaug.augmenter.word as naw # noqa\n",
    "\n",
    "text = 'The quick brown fox jumps over the lazy dog .'\n",
    "print(text)"
   ]
  },
  {
   "cell_type": "code",
   "execution_count": 4,
   "metadata": {},
   "outputs": [
    {
     "name": "stdout",
     "output_type": "stream",
     "text": [
      "Original:\n",
      "The quick brown fox jumps over the lazy dog .\n",
      "Augmented Text:\n",
      "['The quick brown fox jumps ended the indolent heel.']\n"
     ]
    }
   ],
   "source": [
    "aug = naw.SynonymAug(aug_src='wordnet')\n",
    "augmented_text = aug.augment(text)\n",
    "print(\"Original:\")\n",
    "print(text)\n",
    "print(\"Augmented Text:\")\n",
    "print(augmented_text)"
   ]
  },
  {
   "cell_type": "code",
   "execution_count": 6,
   "metadata": {},
   "outputs": [
    {
     "name": "stdout",
     "output_type": "stream",
     "text": [
      "Original:\n",
      "The quick brown fox jumps over the lazy dog .\n",
      "\n",
      "Augmented Text Sample 01:-\n",
      "The ready robert brown slyboots jumps over the lazy dog.\n",
      "----\n",
      "\n",
      "Augmented Text Sample 02:-\n",
      "The quick brown charles james fox leap over the otiose dog.\n",
      "----\n",
      "\n",
      "Augmented Text Sample 03:-\n",
      "The agile brown slyboots jumps over the lazy heel.\n",
      "----\n",
      "\n",
      "Augmented Text Sample 04:-\n",
      "The quick john brown fox jumps concluded the lazy detent.\n",
      "----\n",
      "\n",
      "Augmented Text Sample 05:-\n",
      "The quick brownness george fox jumps concluded the lazy dog.\n",
      "----\n"
     ]
    }
   ],
   "source": [
    "aug = naw.SynonymAug(aug_src='wordnet')\n",
    "print(\"Original:\")\n",
    "print(text)\n",
    "for idx in range(1,6):\n",
    "    print()\n",
    "    augmented_text = aug.augment(text)\n",
    "    print(f'Augmented Text Sample {idx:02d}:-')\n",
    "    print(augmented_text[0])\n",
    "    print(\"----\")"
   ]
  }
 ],
 "metadata": {
  "kernelspec": {
   "display_name": "Python 3",
   "language": "python",
   "name": "python3"
  },
  "language_info": {
   "codemirror_mode": {
    "name": "ipython",
    "version": 3
   },
   "file_extension": ".py",
   "mimetype": "text/x-python",
   "name": "python",
   "nbconvert_exporter": "python",
   "pygments_lexer": "ipython3",
   "version": "3.9.18"
  }
 },
 "nbformat": 4,
 "nbformat_minor": 2
}
